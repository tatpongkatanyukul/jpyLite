{
 "cells": [
  {
   "cell_type": "markdown",
   "id": "28b801d7-a652-4db3-a7cd-88778eac0e28",
   "metadata": {},
   "source": [
    "# Runge-Kutta Method for Differential Equations"
   ]
  },
  {
   "cell_type": "markdown",
   "id": "4929bffe-19f7-4530-a6cd-fe0cece1bdec",
   "metadata": {},
   "source": [
    "src: \n",
    "* [Runge-Kutta Integrator Overview: All Purpose Numerical Integration of Differential Equations](https://www.youtube.com/watch?v=HOWJp8NV5xU&t=112s)\n",
    "\n"
   ]
  },
  {
   "cell_type": "markdown",
   "id": "f6ec8a7b-09c9-43a0-bad5-95750408be2f",
   "metadata": {},
   "source": [
    "To solve a generic (possibly non-linear) differential equation\n",
    "\n",
    "$$\\dot{x} = f(x, t)$$\n",
    "\n",
    "we can solve it using an integrator:\n",
    "\n",
    "$x(t) = x(0) + \\int_0^t f(x, \\tau) d \\tau$. "
   ]
  },
  {
   "cell_type": "markdown",
   "id": "eab8d461-5e56-4cb4-9bd8-1cf1301a61fb",
   "metadata": {},
   "source": [
    "> Runge-Kutta may be not good for:\n",
    "> \n",
    "> * Chaotic system\n",
    "> * Stochastic system\n",
    "> * Very stiff system with many different time scales"
   ]
  },
  {
   "cell_type": "markdown",
   "id": "ffaa97e7-7f4f-4106-a0b5-9b3076d4df4c",
   "metadata": {},
   "source": [
    "Approach: approximation"
   ]
  },
  {
   "cell_type": "markdown",
   "id": "9dcacbd4-6365-4e3c-bdf1-f2088e8eec5b",
   "metadata": {},
   "source": [
    "## Forward Euler\n",
    "\n",
    "Forward Euler (FE)\n",
    "\n",
    "$x_{k+1} = x_k + \\Delta t \\cdot f(x_k, t_k)$."
   ]
  },
  {
   "cell_type": "markdown",
   "id": "b8eb527f-abfb-4320-a46f-34690681cfb4",
   "metadata": {},
   "source": [
    "### Examples"
   ]
  },
  {
   "cell_type": "markdown",
   "id": "6bc1fd7e-0679-46fd-b666-16350d256d45",
   "metadata": {},
   "source": [
    "$\\frac{d x}{d t} = -4 x$ with i.c. $x(0) = 3$.\n",
    "\n",
    "This problem we know the solution:\n",
    "\n",
    "$x(t) = e^{a t} x(0)$\n",
    "\n",
    "That is, $x(t) = 3 e^{-4 t}$ in this example."
   ]
  },
  {
   "cell_type": "code",
   "execution_count": 3,
   "id": "2a461435-d105-432b-9a5e-26dc064181d1",
   "metadata": {
    "execution": {
     "iopub.execute_input": "2025-09-28T06:44:25.739564Z",
     "iopub.status.busy": "2025-09-28T06:44:25.739080Z",
     "iopub.status.idle": "2025-09-28T06:44:26.248509Z",
     "shell.execute_reply": "2025-09-28T06:44:26.247509Z",
     "shell.execute_reply.started": "2025-09-28T06:44:25.739519Z"
    }
   },
   "outputs": [],
   "source": [
    "import numpy as np\n",
    "from matplotlib import pyplot as plt"
   ]
  },
  {
   "cell_type": "code",
   "execution_count": 4,
   "id": "25858e1d-29ec-4de1-9a9b-bc6f41cc16b4",
   "metadata": {
    "execution": {
     "iopub.execute_input": "2025-09-28T06:44:26.250197Z",
     "iopub.status.busy": "2025-09-28T06:44:26.249914Z",
     "iopub.status.idle": "2025-09-28T06:44:26.256264Z",
     "shell.execute_reply": "2025-09-28T06:44:26.255381Z",
     "shell.execute_reply.started": "2025-09-28T06:44:26.250171Z"
    }
   },
   "outputs": [],
   "source": [
    "def forward_euler(f, dt, x0, N):\n",
    "    '''\n",
    "    d x/d t = f(x, t)\n",
    "    * f : RHS function taking x and t\n",
    "    * dt : time step\n",
    "    * x0 : initial value\n",
    "    * N : # steps\n",
    "    return [x0, x+dt, x+2dt, ..., x+(N-1)dt]\n",
    "    '''\n",
    "\n",
    "    xs = [x0]\n",
    "    ts = [0]\n",
    "    x = x0\n",
    "    t = dt\n",
    "    for n in range(N):\n",
    "        xnext = x + dt*f(x, t)\n",
    "        x = xnext\n",
    "        xs.append(x)\n",
    "        ts.append(t)\n",
    "        \n",
    "        t += dt\n",
    "    \n",
    "    return xs, ts"
   ]
  },
  {
   "cell_type": "code",
   "execution_count": 10,
   "id": "0206cfa8-a88e-4afb-bc49-ea58cc4344a3",
   "metadata": {
    "execution": {
     "iopub.execute_input": "2025-09-28T06:46:05.118463Z",
     "iopub.status.busy": "2025-09-28T06:46:05.118074Z",
     "iopub.status.idle": "2025-09-28T06:46:05.331885Z",
     "shell.execute_reply": "2025-09-28T06:46:05.331079Z",
     "shell.execute_reply.started": "2025-09-28T06:46:05.118428Z"
    }
   },
   "outputs": [
    {
     "data": {
      "text/plain": [
       "<matplotlib.legend.Legend at 0x7f04ff9a27a0>"
      ]
     },
     "execution_count": 10,
     "metadata": {},
     "output_type": "execute_result"
    },
    {
     "data": {
      "image/png": "[encoded data removed]",
      "text/plain": [
       "<Figure size 640x480 with 1 Axes>"
      ]
     },
     "metadata": {},
     "output_type": "display_data"
    }
   ],
   "source": [
    "N = 50\n",
    "T = 5\n",
    "ts = np.linspace(0, T, N)\n",
    "xs_a = 3*np.exp(-4*ts)\n",
    "\n",
    "fsys = lambda x, t: -4*x\n",
    "dt = T/N\n",
    "x0 = 3\n",
    "xs_fe,ts_fe = forward_euler(fsys, dt, x0, N)\n",
    "\n",
    "plt.plot(ts, xs_a, label='Analytics')\n",
    "plt.plot(ts_fe, xs_fe, label='Forward Euler')\n",
    "plt.legend()"
   ]
  },
  {
   "cell_type": "markdown",
   "id": "a3eb1139-eab9-4c93-83bf-02413d5d59c8",
   "metadata": {},
   "source": [
    "## Runge-Kutta 2nd Order (RK2)"
   ]
  },
  {
   "cell_type": "markdown",
   "id": "beb70355-bab3-4245-a514-5cf893b35023",
   "metadata": {},
   "source": [
    "$\\boxed{x_{k+1} = x_k + \\Delta t \\cdot f(x_k + \\frac{\\Delta t}{2} \\cdot f(x_k, t_k), t_k + \\frac{\\Delta t}{2} )}$"
   ]
  },
  {
   "cell_type": "markdown",
   "id": "1962a1d2-44c4-419e-9df7-bf22a974d672",
   "metadata": {},
   "source": [
    "* $f(x_k + \\frac{\\Delta t}{2} \\cdot f(x_k, t_k), t_k + \\frac{\\Delta t}{2} )$ is more or less a half-step direction."
   ]
  },
  {
   "cell_type": "markdown",
   "id": "88eb4688-bc49-4ce2-a49f-6addec35802b",
   "metadata": {},
   "source": [
    "Alternatively, we can write it as:\n",
    "\n",
    "$x_{k+1} = x_k + \\Delta t \\cdot f_2$\n",
    "\n",
    "where\n",
    "\n",
    "* $f_1 = f(x_k , t_k)$\n",
    "\n",
    "* $f_2 = f(x_k + \\frac{\\Delta t}{2} f_1, t_k + \\frac{\\Delta t}{2} )$"
   ]
  },
  {
   "cell_type": "markdown",
   "id": "4382ac68-0d07-4f55-850c-c1b2b48a7686",
   "metadata": {},
   "source": [
    "We can say that RK2 uses a half-step direction to approximate the trajectory, rather than the current direction (which may change along the trajectory during time step $\\Delta t$)."
   ]
  },
  {
   "cell_type": "markdown",
   "id": "7f86f412-d5a3-4ff1-9ef6-eb3dc8a56fa1",
   "metadata": {},
   "source": [
    "This requires 2x computation (evaluation) of $f$ (cf. Forward Euler), but is much more accurate (and we can even use a larger time step and save the computation for the entire job.)"
   ]
  },
  {
   "cell_type": "markdown",
   "id": "817eb02e-18e8-46d4-8e74-3aa7bb3da17a",
   "metadata": {},
   "source": [
    "Error is \"locally\" $O(\\Delta t^3)$ every time step and \"globally\" $O(\\Delta t^2)$ over an entire trajectory.\n",
    "\n",
    "But, global error compounds very fast."
   ]
  },
  {
   "cell_type": "markdown",
   "id": "eb81c13e-3aa7-4d30-be95-55427bac7289",
   "metadata": {},
   "source": [
    "### Examples"
   ]
  },
  {
   "cell_type": "code",
   "execution_count": 11,
   "id": "4bc52b51-344c-46f2-9c01-2b9c50ccb3b2",
   "metadata": {
    "execution": {
     "iopub.execute_input": "2025-09-28T06:57:57.609502Z",
     "iopub.status.busy": "2025-09-28T06:57:57.608970Z",
     "iopub.status.idle": "2025-09-28T06:57:57.617986Z",
     "shell.execute_reply": "2025-09-28T06:57:57.616944Z",
     "shell.execute_reply.started": "2025-09-28T06:57:57.609452Z"
    }
   },
   "outputs": [],
   "source": [
    "def RK2(f, dt, x0, N):\n",
    "    '''\n",
    "    d x/d t = f(x, t)\n",
    "    * f : RHS function taking x and t\n",
    "    * dt : time step\n",
    "    * x0 : initial value\n",
    "    * N : # steps\n",
    "    return [x0, x+dt, x+2dt, ..., x+(N-1)dt]\n",
    "    '''\n",
    "\n",
    "    xs = [x0]\n",
    "    ts = [0]\n",
    "    x = x0\n",
    "    t = dt\n",
    "    for n in range(N):\n",
    "        f1 = f(x, t)\n",
    "        f2 = f(x + dt/2 * f1, t + dt/2)\n",
    "        xnext = x + dt*f2\n",
    "        \n",
    "        x = xnext\n",
    "        xs.append(x)\n",
    "        ts.append(t)\n",
    "        \n",
    "        t += dt\n",
    "    \n",
    "    return xs, ts"
   ]
  },
  {
   "cell_type": "code",
   "execution_count": 12,
   "id": "f2c5fdac-7c89-48e8-a0a0-e6c7e1984270",
   "metadata": {
    "execution": {
     "iopub.execute_input": "2025-09-28T06:58:45.432008Z",
     "iopub.status.busy": "2025-09-28T06:58:45.431395Z",
     "iopub.status.idle": "2025-09-28T06:58:45.675799Z",
     "shell.execute_reply": "2025-09-28T06:58:45.674894Z",
     "shell.execute_reply.started": "2025-09-28T06:58:45.431951Z"
    }
   },
   "outputs": [
    {
     "data": {
      "text/plain": [
       "<matplotlib.legend.Legend at 0x7f04ff9cf280>"
      ]
     },
     "execution_count": 12,
     "metadata": {},
     "output_type": "execute_result"
    },
    {
     "data": {
      "image/png": "[encoded data removed]",
      "text/plain": [
       "<Figure size 640x480 with 1 Axes>"
      ]
     },
     "metadata": {},
     "output_type": "display_data"
    }
   ],
   "source": [
    "N = 50\n",
    "T = 5\n",
    "ts = np.linspace(0, T, N)\n",
    "xs_a = 3*np.exp(-4*ts)\n",
    "\n",
    "fsys = lambda x, t: -4*x\n",
    "dt = T/N\n",
    "x0 = 3\n",
    "xs_fe,ts_fe = forward_euler(fsys, dt, x0, N)\n",
    "\n",
    "xs_rk2,ts_rk2 = RK2(fsys, dt, x0, N)\n",
    "\n",
    "plt.plot(ts, xs_a, label='Analytics')\n",
    "plt.plot(ts_fe, xs_fe, label='Forward Euler')\n",
    "plt.plot(ts_rk2, xs_rk2, label='RK2')\n",
    "plt.legend()"
   ]
  },
  {
   "cell_type": "markdown",
   "id": "17bb51cc-8bdc-45ca-bac2-db8ecd7ba556",
   "metadata": {},
   "source": [
    "# RK4\n",
    "\n",
    "src:\n",
    "* [Coding a Fourth-Order Runge-Kutta Integrator in Python and Matlab](https://www.youtube.com/watch?v=vNoFdtcPFdk&list=PLMrJAkhIeNNTYaOnVI3QpH7jgULnAmvPA&index=45)"
   ]
  },
  {
   "cell_type": "markdown",
   "id": "ecc9ca59-fe15-46d4-8ffa-105d903502e4",
   "metadata": {},
   "source": [
    "Fine tune to further reduce error.\n",
    "\n",
    "RK4:\n",
    "\n",
    "$\\boxed{x_{k+1} = x_k + \\frac{\\Delta t}{6} \\left( f_1 + 2 f_2 + 2 f_3 + f_4 \\right)}$\n",
    "\n",
    "where\n",
    "\n",
    "* $f_1 = f(x_k, t_k)$\n",
    "\n",
    "* $f_2 = f(x_k + \\frac{\\Delta t}{2} f_1, t_k + \\frac{\\Delta t}{2})$\n",
    "\n",
    "* $f_3 = f(x_k + \\frac{\\Delta t}{2} f_3, t_k + \\frac{\\Delta t}{2})$\n",
    "\n",
    "* $f_4 = f(x_k + \\Delta t  f_3, t_k + \\Delta t)$"
   ]
  },
  {
   "cell_type": "markdown",
   "id": "a74cf16e-6d68-40d2-a7bf-93217db2d79a",
   "metadata": {},
   "source": [
    "The errors are reduced to $O(\\Delta t^5)$ locally and $O(\\Delta t^ 4)$ globally."
   ]
  },
  {
   "cell_type": "markdown",
   "id": "b21814c2-ff9a-4fff-81b3-bf484b0694d5",
   "metadata": {},
   "source": [
    "### Examples"
   ]
  },
  {
   "cell_type": "code",
   "execution_count": 13,
   "id": "177bd883-6eca-48c5-8dda-f1d91c7a1eca",
   "metadata": {
    "execution": {
     "iopub.execute_input": "2025-09-28T07:04:47.638642Z",
     "iopub.status.busy": "2025-09-28T07:04:47.638164Z",
     "iopub.status.idle": "2025-09-28T07:04:47.647576Z",
     "shell.execute_reply": "2025-09-28T07:04:47.646285Z",
     "shell.execute_reply.started": "2025-09-28T07:04:47.638599Z"
    }
   },
   "outputs": [],
   "source": [
    "def RK4(f, dt, x0, N):\n",
    "    '''\n",
    "    d x/d t = f(x, t)\n",
    "    * f : RHS function taking x and t\n",
    "    * dt : time step\n",
    "    * x0 : initial value\n",
    "    * N : # steps\n",
    "    return [x0, x+dt, x+2dt, ..., x+(N-1)dt]\n",
    "    '''\n",
    "\n",
    "    xs = [x0]\n",
    "    ts = [0]\n",
    "    x = x0\n",
    "    t = dt\n",
    "    for n in range(N):\n",
    "        f1 = f(x, t)\n",
    "        f2 = f(x + dt/2 * f1, t + dt/2)\n",
    "        f3 = f(x + dt/2 * f2, t + dt/2)\n",
    "        f4 = f(x + dt * f3, t + dt)\n",
    "        xnext = x + dt*(f1 + 2*f2 + 2*f3 + f4)/6\n",
    "        \n",
    "        x = xnext\n",
    "        xs.append(x)\n",
    "        ts.append(t)\n",
    "        \n",
    "        t += dt\n",
    "    \n",
    "    return xs, ts"
   ]
  },
  {
   "cell_type": "code",
   "execution_count": 18,
   "id": "8871ea30-73ef-44f2-8d35-8af664bf48c2",
   "metadata": {
    "execution": {
     "iopub.execute_input": "2025-09-28T07:08:12.649072Z",
     "iopub.status.busy": "2025-09-28T07:08:12.648466Z",
     "iopub.status.idle": "2025-09-28T07:08:12.909133Z",
     "shell.execute_reply": "2025-09-28T07:08:12.908152Z",
     "shell.execute_reply.started": "2025-09-28T07:08:12.649017Z"
    }
   },
   "outputs": [
    {
     "data": {
      "text/plain": [
       "<matplotlib.legend.Legend at 0x7f04ff6d8970>"
      ]
     },
     "execution_count": 18,
     "metadata": {},
     "output_type": "execute_result"
    },
    {
     "data": {
      "image/png": "[encoded data removed]",
      "text/plain": [
       "<Figure size 640x480 with 1 Axes>"
      ]
     },
     "metadata": {},
     "output_type": "display_data"
    }
   ],
   "source": [
    "N = 50\n",
    "T = 5\n",
    "ts = np.linspace(0, T, N)\n",
    "\n",
    "analytic_sol = lambda t: 3*np.exp(-4*t)\n",
    "\n",
    "xs_a = analytic_sol(ts)\n",
    "\n",
    "fsys = lambda x, t: -4*x\n",
    "dt = T/N\n",
    "x0 = 3\n",
    "xs_fe,ts_fe = forward_euler(fsys, dt, x0, N)\n",
    "\n",
    "xs_rk2,ts_rk2 = RK2(fsys, dt, x0, N)\n",
    "xs_rk4,ts_rk4 = RK4(fsys, dt, x0, N)\n",
    "\n",
    "plt.plot(ts, xs_a, 'b-', label='Analytics')\n",
    "plt.plot(ts_fe, xs_fe, 'g--', label='Forward Euler')\n",
    "plt.plot(ts_rk2, xs_rk2, 'm-.', label='RK2')\n",
    "plt.plot(ts_rk4, xs_rk4, 'r:', label='RK4')\n",
    "\n",
    "plt.legend()"
   ]
  },
  {
   "cell_type": "code",
   "execution_count": 21,
   "id": "efcacb16-2ddb-4b30-bcb2-85040a16759c",
   "metadata": {
    "execution": {
     "iopub.execute_input": "2025-09-28T07:09:48.383831Z",
     "iopub.status.busy": "2025-09-28T07:09:48.383208Z",
     "iopub.status.idle": "2025-09-28T07:09:48.392477Z",
     "shell.execute_reply": "2025-09-28T07:09:48.391274Z",
     "shell.execute_reply.started": "2025-09-28T07:09:48.383773Z"
    }
   },
   "outputs": [
    {
     "data": {
      "text/plain": [
       "(0,)"
      ]
     },
     "execution_count": 21,
     "metadata": {},
     "output_type": "execute_result"
    }
   ],
   "source": [
    "xs_a.shape"
   ]
  },
  {
   "cell_type": "code",
   "execution_count": 25,
   "id": "efe2d4c6-a8e5-46f6-83da-c9d48718d005",
   "metadata": {
    "execution": {
     "iopub.execute_input": "2025-09-28T07:12:42.433722Z",
     "iopub.status.busy": "2025-09-28T07:12:42.433136Z",
     "iopub.status.idle": "2025-09-28T07:12:42.443023Z",
     "shell.execute_reply": "2025-09-28T07:12:42.441820Z",
     "shell.execute_reply.started": "2025-09-28T07:12:42.433667Z"
    }
   },
   "outputs": [
    {
     "name": "stdout",
     "output_type": "stream",
     "text": [
      "fe mse= 0.00580770046113324\n",
      "rk2 mse= 0.000149427293745034\n",
      "rk4 mse= 9.79457252817039e-09\n"
     ]
    }
   ],
   "source": [
    "TCases = [(xs_fe, ts_fe, 'fe'), (xs_rk2, ts_rk2, 'rk2'), (xs_rk4, ts_rk4, 'rk4')]\n",
    "\n",
    "for xs_test, ts, lab in TCases:\n",
    "\n",
    "    xs_a = analytic_sol(np.array(ts))\n",
    "    mse = np.mean( (xs_a - xs_test)**2 )\n",
    "\n",
    "    print(lab, 'mse=', mse)"
   ]
  },
  {
   "cell_type": "markdown",
   "id": "8a237b3e-fba6-4862-9ed7-f04c3c778895",
   "metadata": {},
   "source": [
    "# End"
   ]
  },
  {
   "cell_type": "code",
   "execution_count": null,
   "id": "d81bd8ad-eaa2-4cb4-bd3a-59eaa16f1b92",
   "metadata": {},
   "outputs": [],
   "source": []
  }
 ],
 "metadata": {
  "kernelspec": {
   "display_name": "Python 3 (ipykernel)",
   "language": "python",
   "name": "python3"
  },
  "language_info": {
   "codemirror_mode": {
    "name": "ipython",
    "version": 3
   },
   "file_extension": ".py",
   "mimetype": "text/x-python",
   "name": "python",
   "nbconvert_exporter": "python",
   "pygments_lexer": "ipython3",
   "version": "3.10.10"
  }
 },
 "nbformat": 4,
 "nbformat_minor": 5
}
